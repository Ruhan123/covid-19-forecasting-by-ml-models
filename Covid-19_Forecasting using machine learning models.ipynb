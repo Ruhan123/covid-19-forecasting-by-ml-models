{
 "cells": [
  {
   "cell_type": "code",
   "execution_count": 1,
   "metadata": {
    "colab": {
     "base_uri": "https://localhost:8080/",
     "height": 265
    },
    "colab_type": "code",
    "id": "9aIcqjm097LB",
    "outputId": "e9bd7bc4-29c8-4bf9-da50-29d6b2238720"
   },
   "outputs": [
    {
     "name": "stdout",
     "output_type": "stream",
     "text": [
      "         SNo ObservationDate      Province/State  Country/Region  \\\n",
      "0          1      01/22/2020               Anhui  Mainland China   \n",
      "1          2      01/22/2020             Beijing  Mainland China   \n",
      "2          3      01/22/2020           Chongqing  Mainland China   \n",
      "3          4      01/22/2020              Fujian  Mainland China   \n",
      "4          5      01/22/2020               Gansu  Mainland China   \n",
      "...      ...             ...                 ...             ...   \n",
      "45174  45175      06/18/2020           Zacatecas          Mexico   \n",
      "45175  45176      06/18/2020  Zakarpattia Oblast         Ukraine   \n",
      "45176  45177      06/18/2020   Zaporizhia Oblast         Ukraine   \n",
      "45177  45178      06/18/2020            Zhejiang  Mainland China   \n",
      "45178  45179      06/18/2020     Zhytomyr Oblast         Ukraine   \n",
      "\n",
      "              Last Update  Confirmed  Deaths  Recovered  \n",
      "0     2020-01-22 17:00:00        1.0     0.0        0.0  \n",
      "1     2020-01-22 17:00:00       14.0     0.0        0.0  \n",
      "2     2020-01-22 17:00:00        6.0     0.0        0.0  \n",
      "3     2020-01-22 17:00:00        1.0     0.0        0.0  \n",
      "4     2020-01-22 17:00:00        0.0     0.0        0.0  \n",
      "...                   ...        ...     ...        ...  \n",
      "45174 2020-06-19 04:33:17      612.0    69.0      366.0  \n",
      "45175 2020-06-19 04:33:17     1882.0    51.0      772.0  \n",
      "45176 2020-06-19 04:33:17      541.0    16.0      375.0  \n",
      "45177 2020-06-19 04:33:17     1269.0     1.0     1267.0  \n",
      "45178 2020-06-19 04:33:17     1154.0    21.0      583.0  \n",
      "\n",
      "[45179 rows x 8 columns]\n"
     ]
    }
   ],
   "source": [
    "import pandas as pd\n",
    "import io\n",
    "df = pd.read_csv('C://Users//Ruhan Siddiqui//Downloads//494724_1261242_bundle_archive//covid_19_data.csv',parse_dates=['Last Update'])\n",
    "print(df)"
   ]
  },
  {
   "cell_type": "code",
   "execution_count": 2,
   "metadata": {
    "colab": {
     "base_uri": "https://localhost:8080/",
     "height": 72
    },
    "colab_type": "code",
    "id": "Nc22fOgBCGrk",
    "outputId": "3b07cb7a-e022-4ff6-dd1b-a01197a0654f"
   },
   "outputs": [],
   "source": [
    "from matplotlib import pyplot as plt\n",
    "\n",
    "from statsmodels.tsa.ar_model import AR\n",
    "\n",
    "import statsmodels.api as sm\n",
    "\n",
    "from statsmodels.tsa.arima_model import ARIMA\n",
    "\n",
    "from statsmodels.tsa.statespace.sarimax import SARIMAX\n",
    "import numpy as np"
   ]
  },
  {
   "cell_type": "code",
   "execution_count": 6,
   "metadata": {
    "colab": {},
    "colab_type": "code",
    "id": "oeW-lH2xCnyM"
   },
   "outputs": [],
   "source": [
    "df.rename(columns={'ObservationDate':'Date', 'Country/Region':'Country'}, inplace=True)\n",
    "df_date = df.groupby(['Date'])[['Confirmed', 'Deaths', 'Recovered']].sum().reset_index()\n",
    "#df = df.drop(df.columns['SNo', 'Province/State'], axis=1,inplace=True)"
   ]
  },
  {
   "cell_type": "code",
   "execution_count": 7,
   "metadata": {
    "colab": {
     "base_uri": "https://localhost:8080/",
     "height": 265
    },
    "colab_type": "code",
    "id": "Z_kiQQ9mC7cS",
    "outputId": "f8571639-7627-40bf-b10a-12e660e862c8"
   },
   "outputs": [
    {
     "name": "stdout",
     "output_type": "stream",
     "text": [
      "           Date    Deaths\n",
      "0    01/22/2020      17.0\n",
      "1    01/23/2020      18.0\n",
      "2    01/24/2020      26.0\n",
      "3    01/25/2020      42.0\n",
      "4    01/26/2020      56.0\n",
      "..          ...       ...\n",
      "144  06/14/2020  433066.0\n",
      "145  06/15/2020  436899.0\n",
      "146  06/16/2020  443685.0\n",
      "147  06/17/2020  448959.0\n",
      "148  06/18/2020  453987.0\n",
      "\n",
      "[149 rows x 2 columns]\n"
     ]
    }
   ],
   "source": [
    "date_confirmed = df_date[['Date', 'Confirmed']]\n",
    "date_death = df_date[['Date', 'Deaths']]\n",
    "date_recovered = df_date[['Date', 'Recovered']]\n",
    "print(date_death)"
   ]
  },
  {
   "cell_type": "code",
   "execution_count": 8,
   "metadata": {
    "colab": {},
    "colab_type": "code",
    "id": "nRUKgI7sDNhu"
   },
   "outputs": [],
   "source": [
    "for index, row in date_confirmed.iterrows():\n",
    "  if row['Confirmed'] is None:\n",
    "    row['Confirmed'] = 0.0\n",
    "\n",
    "for index, row in date_death.iterrows():\n",
    "  if row['Deaths'] is None:\n",
    "    row['Deaths'] = 0.0\n",
    "\n",
    "for index, row in date_recovered.iterrows():\n",
    "  if row['Recovered'] is None:\n",
    "    row['Recovered'] = 0.0"
   ]
  },
  {
   "cell_type": "code",
   "execution_count": 10,
   "metadata": {
    "colab": {
     "base_uri": "https://localhost:8080/",
     "height": 970
    },
    "colab_type": "code",
    "id": "-cOFgZKmDfmb",
    "outputId": "4c965704-a690-422f-cfc5-a8a810ab1d16"
   },
   "outputs": [
    {
     "name": "stdout",
     "output_type": "stream",
     "text": [
      "[1.03941263e+03 7.52620389e+02 1.18015366e+03 1.86168923e+03\n",
      " 2.70504896e+03 3.63006476e+03 7.84464436e+03 6.76574267e+03\n",
      " 9.99293332e+03 1.14237240e+04 1.38712414e+04 2.13871507e+04\n",
      " 2.24469725e+04 2.75921777e+04 3.11926735e+04 3.38793415e+04\n",
      " 3.77361738e+04 4.10665280e+04 4.15547895e+04 4.62298060e+04\n",
      " 4.65731166e+04 4.60992912e+04 7.55322514e+04 7.24160877e+04\n",
      " 7.19262380e+04 7.33748227e+04 7.50105502e+04 7.74131470e+04\n",
      " 7.58509487e+04 7.75860713e+04 7.69210961e+04 8.02488094e+04\n",
      " 7.82802293e+04 9.13000501e+04 7.69949174e+04 7.89580136e+04\n",
      " 8.43174543e+04 8.54465742e+04 8.76750257e+04 8.97453106e+04\n",
      " 9.19891545e+04 9.53395088e+04 9.80465035e+04 9.94041699e+04\n",
      " 1.05048826e+05 1.13336935e+05 1.11999613e+05 1.16316239e+05\n",
      " 1.23164352e+05 1.32823369e+05 1.31288474e+05 1.59318131e+05\n",
      " 1.66727671e+05 1.77672023e+05 1.94911460e+05 2.11939120e+05\n",
      " 2.31231274e+05 2.67622199e+05 2.98711077e+05 3.34837735e+05\n",
      " 3.68532418e+05 4.12055484e+05 4.64666599e+05 5.08961530e+05\n",
      " 5.85916957e+05 6.53361192e+05 7.23530308e+05 7.77029740e+05\n",
      " 8.47285839e+05 9.28159875e+05 1.00459000e+06 1.08863835e+06\n",
      " 1.17967411e+06 1.28907317e+06 1.35433119e+06 1.42321988e+06\n",
      " 1.50523392e+06 1.59596229e+06 1.67108007e+06 1.78510770e+06\n",
      " 1.86132157e+06 1.92174758e+06 1.99238728e+06 2.03824435e+06\n",
      " 2.15047170e+06 2.22766894e+06 2.32623108e+06 2.40380491e+06\n",
      " 2.48781378e+06 2.54504657e+06 2.63324528e+06 2.68865861e+06\n",
      " 2.79164349e+06 2.90570936e+06 2.97433928e+06 3.06156176e+06\n",
      " 3.13120613e+06 3.18049747e+06 3.26348222e+06 3.32799078e+06\n",
      " 3.42099603e+06 3.51407016e+06 3.58786111e+06 3.66345324e+06\n",
      " 3.75432651e+06 3.83518634e+06 3.92340583e+06 4.02950737e+06\n",
      " 4.11633511e+06 4.18017991e+06 4.24040691e+06 4.36321746e+06\n",
      " 4.42727484e+06 4.53349244e+06 4.63725874e+06 4.72938991e+06\n",
      " 4.80798832e+06 4.88553589e+06 4.99056600e+06 5.08821687e+06\n",
      " 5.20026594e+06 5.31496512e+06 5.41076327e+06 5.50960793e+06\n",
      " 5.58972707e+06 5.68670169e+06 5.78590040e+06 5.91386495e+06\n",
      " 6.04549545e+06 6.19359916e+06 6.27783336e+06 6.36875425e+06\n",
      " 6.48885476e+06 6.62813252e+06 6.75455911e+06 6.89520597e+06\n",
      " 7.02755737e+06 7.13012159e+06 7.23641926e+06 7.35973270e+06\n",
      " 7.49381445e+06 7.64635864e+06 7.74451367e+06 7.90847789e+06\n",
      " 8.04717178e+06 8.16105236e+06 8.31978336e+06 8.50957146e+06\n",
      " 8.61874844e+06 8.74436410e+06 8.88306005e+06 9.01559303e+06\n",
      " 9.17876704e+06 9.30692372e+06 9.44354760e+06 9.58227379e+06\n",
      " 9.72416920e+06 9.86808471e+06 1.00418990e+07 1.01845684e+07\n",
      " 1.03163811e+07 1.04431780e+07 1.05829702e+07 1.07163114e+07\n",
      " 1.08812635e+07 1.10105838e+07 1.11498393e+07 1.12903152e+07\n",
      " 1.14327928e+07 1.15779805e+07 1.17544842e+07 1.18981888e+07\n",
      " 1.20312430e+07 1.21593227e+07 1.23002644e+07 1.24346870e+07\n",
      " 1.26003550e+07 1.27304300e+07 1.28699748e+07 1.30108660e+07]\n"
     ]
    },
    {
     "data": {
      "image/png": "[encoded data removed]",
      "text/plain": [
       "<Figure size 432x288 with 1 Axes>"
      ]
     },
     "metadata": {
      "needs_background": "light"
     },
     "output_type": "display_data"
    }
   ],
   "source": [
    "#SARIMA model\n",
    "model_sarima_confirmed = SARIMAX(np.asanyarray(date_confirmed['Confirmed']),  order=(2,1,0), seasonal_order=(1,1,0,12))\n",
    "model_fit_sarima_confirmed = model_sarima_confirmed.fit(disp=False, enforce_stationarity=False)\n",
    "predict_sarima_confirmed = model_fit_sarima_confirmed.predict(1, len(date_confirmed)+31)\n",
    "print(predict_sarima_confirmed)\n",
    "plt.xlabel('Dates')\n",
    "plt.ylabel('Cases')\n",
    "plt.plot(date_confirmed['Confirmed'], label='Confirmed  case', color='blue')\n",
    "plt.plot(predict_sarima_confirmed, label='Predicted  case', color='orange')\n",
    "#plt.plot(predict_sarima_confirmed[:len(predict_sarima_confirmed)-31], label='Predicted known data', color='red')\n",
    "plt.title('Confirmed cases vs Predicted Confirmed cases')\n",
    "plt.legend()\n",
    "plt.show()"
   ]
  },
  {
   "cell_type": "code",
   "execution_count": 11,
   "metadata": {
    "colab": {
     "base_uri": "https://localhost:8080/",
     "height": 970
    },
    "colab_type": "code",
    "id": "_Hi87snFD2ny",
    "outputId": "fbfd0225-368a-491a-c2df-dcef4f371e41"
   },
   "outputs": [
    {
     "name": "stdout",
     "output_type": "stream",
     "text": [
      "[2.59894774e+01 2.03685103e+01 3.07442443e+01 5.15452476e+01\n",
      " 6.55583860e+01 9.79247799e+01 1.60633174e+02 1.40628840e+02\n",
      " 1.92521919e+02 2.39656172e+02 2.88592295e+02 4.32867078e+02\n",
      " 4.68846804e+02 5.48281533e+02 6.26992018e+02 6.87996931e+02\n",
      " 7.95865274e+02 8.97514299e+02 9.50128119e+02 1.12565669e+03\n",
      " 1.19849018e+03 1.13103628e+03 1.62040267e+03 1.62612322e+03\n",
      " 1.78716452e+03 1.86755713e+03 1.95677863e+03 2.13730506e+03\n",
      " 2.23043103e+03 2.37520837e+03 2.26647069e+03 2.64009929e+03\n",
      " 2.42808785e+03 2.93846914e+03 2.75547258e+03 2.83263172e+03\n",
      " 2.84783598e+03 2.93543452e+03 3.04456664e+03 3.05247199e+03\n",
      " 3.18598856e+03 3.15896472e+03 3.48383943e+03 3.31632311e+03\n",
      " 3.63805414e+03 3.66766633e+03 3.98112001e+03 4.14885965e+03\n",
      " 4.48295145e+03 4.90956730e+03 4.81921848e+03 5.96727667e+03\n",
      " 6.15318462e+03 6.92032180e+03 7.72486182e+03 8.49450171e+03\n",
      " 9.42003295e+03 1.08530659e+04 1.24057212e+04 1.43477061e+04\n",
      " 1.60091986e+04 1.78250219e+04 2.06892353e+04 2.30884313e+04\n",
      " 2.63412900e+04 2.98468241e+04 3.35024840e+04 3.66242420e+04\n",
      " 4.07661948e+04 4.60477421e+04 5.08510246e+04 5.80351857e+04\n",
      " 6.37400029e+04 6.95386726e+04 7.38932599e+04 7.91295002e+04\n",
      " 8.83606573e+04 9.40891903e+04 1.01453650e+05 1.08864912e+05\n",
      " 1.14490691e+05 1.19433529e+05 1.25658969e+05 1.31857105e+05\n",
      " 1.41637655e+05 1.51604767e+05 1.62904380e+05 1.66527715e+05\n",
      " 1.70217988e+05 1.75612572e+05 1.82991789e+05 1.88752586e+05\n",
      " 1.98037340e+05 2.03121966e+05 2.09635320e+05 2.12005541e+05\n",
      " 2.17515322e+05 2.23750496e+05 2.34632535e+05 2.39544203e+05\n",
      " 2.43427967e+05 2.50395105e+05 2.51741479e+05 2.56861471e+05\n",
      " 2.62106802e+05 2.69821048e+05 2.74108332e+05 2.81155983e+05\n",
      " 2.85372418e+05 2.90326715e+05 2.86870470e+05 2.97222103e+05\n",
      " 3.02218897e+05 3.06957588e+05 3.12996312e+05 3.17581074e+05\n",
      " 3.19496080e+05 3.21728145e+05 3.27469843e+05 3.32534456e+05\n",
      " 3.37275660e+05 3.44498943e+05 3.46591791e+05 3.48217160e+05\n",
      " 3.48302070e+05 3.54519546e+05 3.60002342e+05 3.64770716e+05\n",
      " 3.69460668e+05 3.74242267e+05 3.75346927e+05 3.79124396e+05\n",
      " 3.84997651e+05 3.90533265e+05 3.95841972e+05 3.99387637e+05\n",
      " 4.05737026e+05 4.06595303e+05 4.09995467e+05 4.15967295e+05\n",
      " 4.20599175e+05 4.25840824e+05 4.29656374e+05 4.34840565e+05\n",
      " 4.37557822e+05 4.40412111e+05 4.49617529e+05 4.52753970e+05\n",
      " 4.58568411e+05 4.63846976e+05 4.69539132e+05 4.74908868e+05\n",
      " 4.80407450e+05 4.84460597e+05 4.88881434e+05 4.92812033e+05\n",
      " 4.97322445e+05 5.03819572e+05 5.09122662e+05 5.13925455e+05\n",
      " 5.18078833e+05 5.23010530e+05 5.28526537e+05 5.33763493e+05\n",
      " 5.39219743e+05 5.43258715e+05 5.47671684e+05 5.51451911e+05\n",
      " 5.55789082e+05 5.62369468e+05 5.67669436e+05 5.72536015e+05\n",
      " 5.76806573e+05 5.81833121e+05 5.87397855e+05 5.92671568e+05\n",
      " 5.98140107e+05 6.02183619e+05 6.06599269e+05 6.10420137e+05]\n"
     ]
    },
    {
     "data": {
      "image/png": "[encoded data removed]",
      "text/plain": [
       "<Figure size 432x288 with 1 Axes>"
      ]
     },
     "metadata": {
      "needs_background": "light"
     },
     "output_type": "display_data"
    }
   ],
   "source": [
    "model_sarima_death = SARIMAX(np.asanyarray(date_death['Deaths']),  order=(1,1,0), seasonal_order=(1,1,0,12))\n",
    "model_fit_sarima_death = model_sarima_death.fit(disp=False, enforce_stationarity=False)\n",
    "predict_sarima_death = model_fit_sarima_death.predict(1, len(date_death)+31)\n",
    "print(predict_sarima_death)\n",
    "plt.xlabel('Dates')\n",
    "plt.ylabel('Cases')\n",
    "plt.plot(date_death['Deaths'], label='Death case', color='blue')\n",
    "plt.plot(predict_sarima_death, label='Predicted case', color='orange')\n",
    "#plt.plot(predict_sarima_death[:len(predict_sarima_death)-31], label='Predicted known data', color='red')\n",
    "plt.title('Death cases vs Predicted Death cases')\n",
    "plt.legend()\n",
    "plt.show()"
   ]
  },
  {
   "cell_type": "code",
   "execution_count": 21,
   "metadata": {
    "colab": {
     "base_uri": "https://localhost:8080/",
     "height": 970
    },
    "colab_type": "code",
    "id": "btfxh-neEVtp",
    "outputId": "b496f009-0ef7-4e55-fc2c-72eb31f88aab"
   },
   "outputs": [
    {
     "name": "stdout",
     "output_type": "stream",
     "text": [
      "[4.76184283e+01 3.66804902e+01 3.75781570e+01 3.95787879e+01\n",
      " 5.69451850e+01 6.57056099e+01 1.29355768e+02 1.41804001e+02\n",
      " 1.49349060e+02 2.48063460e+02 3.09246122e+02 4.72000161e+02\n",
      " 7.52584652e+02 1.03555631e+03 1.35606036e+03 1.78717407e+03\n",
      " 2.43582444e+03 3.13632626e+03 3.80166410e+03 4.55574055e+03\n",
      " 5.33526565e+03 5.64671272e+03 7.13098450e+03 9.49306236e+03\n",
      " 1.07017986e+04 1.21459834e+04 1.40559860e+04 1.59374659e+04\n",
      " 1.77116405e+04 1.99808408e+04 1.99003880e+04 2.55391810e+04\n",
      " 2.49039086e+04 2.65075180e+04 3.02003522e+04 3.26870623e+04\n",
      " 3.58432945e+04 3.97331672e+04 4.27767908e+04 4.56162753e+04\n",
      " 4.83899726e+04 5.07714645e+04 5.38706143e+04 5.63745454e+04\n",
      " 5.76986195e+04 6.11285737e+04 6.37658200e+04 6.42202735e+04\n",
      " 6.62307928e+04 6.95731502e+04 7.01691963e+04 7.20045268e+04\n",
      " 7.50964591e+04 7.77514904e+04 8.32933693e+04 8.09632506e+04\n",
      " 8.60018793e+04 8.80845328e+04 8.96839589e+04 9.56054947e+04\n",
      " 1.02831390e+05 1.04960866e+05 1.12970737e+05 1.19618039e+05\n",
      " 1.29039894e+05 1.39186824e+05 1.47196768e+05 1.57054563e+05\n",
      " 1.77305116e+05 1.90924075e+05 2.05982657e+05 2.25188091e+05\n",
      " 2.41123277e+05 2.62269870e+05 2.74693751e+05 2.91414961e+05\n",
      " 3.20623655e+05 3.52225226e+05 3.78189627e+05 3.97087885e+05\n",
      " 4.23740311e+05 4.41896597e+05 4.73095343e+05 4.99904929e+05\n",
      " 5.39979454e+05 5.74542480e+05 5.94171828e+05 6.17252200e+05\n",
      " 6.52028138e+05 6.68865510e+05 7.08934539e+05 7.44871867e+05\n",
      " 7.65877564e+05 8.37852389e+05 8.50543667e+05 9.03232354e+05\n",
      " 9.31207622e+05 9.54942666e+05 1.01187206e+06 1.06257219e+06\n",
      " 1.09843097e+06 1.12957079e+06 1.15471960e+06 1.20012552e+06\n",
      " 1.22901609e+06 1.29180381e+06 1.32562786e+06 1.36952646e+06\n",
      " 1.42037984e+06 1.44138440e+06 1.49374475e+06 1.53909577e+06\n",
      " 1.58862548e+06 1.63943177e+06 1.68119828e+06 1.74242642e+06\n",
      " 1.80371618e+06 1.81229462e+06 1.66232690e+06 1.60971553e+06\n",
      " 1.57328186e+06 1.55063628e+06 1.53144104e+06 1.51340977e+06\n",
      " 1.50098908e+06 1.48492670e+06 1.47794999e+06 1.47302385e+06\n",
      " 1.48173775e+06 1.48612087e+06 1.49118185e+06 1.51499650e+06\n",
      " 1.52088979e+06 1.54277547e+06 1.55659299e+06 1.59014339e+06\n",
      " 1.60957240e+06 1.64036647e+06 1.67953499e+06 1.70464848e+06\n",
      " 1.74311593e+06 1.63153013e+06 1.59293693e+06 1.52897378e+06\n",
      " 1.48206439e+06 1.44975153e+06 1.42163508e+06 1.39537107e+06\n",
      " 1.37535300e+06 1.35227955e+06]\n"
     ]
    },
    {
     "data": {
      "image/png": "[encoded data removed]",
      "text/plain": [
       "<Figure size 432x288 with 1 Axes>"
      ]
     },
     "metadata": {
      "needs_background": "light"
     },
     "output_type": "display_data"
    }
   ],
   "source": [
    "model_sarima_recovered = SARIMAX(np.asanyarray(date_recovered['Recovered']),  order=(2,1,0), seasonal_order=(1,1,0,12))\n",
    "model_fit_sarima_recovered = model_sarima_recovered.fit(disp=False, enforce_stationarity=False)\n",
    "predict_sarima_recovered = model_fit_sarima_recovered.predict(1, len(date_recovered)+31)\n",
    "print(predict_sarima_recovered)\n",
    "plt.xlabel('Dates')\n",
    "plt.ylabel('Cases')\n",
    "plt.plot(date_recovered['Recovered'], label='Recovered', color='blue')\n",
    "plt.plot(predict_sarima_recovered, label='Predicted unknown data', color='orange')\n",
    "plt.plot(predict_sarima_recovered[:len(predict_sarima_recovered)-31], label='Predicted known data', color='red')\n",
    "plt.title('Recovered cases vs Predicted Recovered cases')\n",
    "plt.legend()\n",
    "plt.show()"
   ]
  },
  {
   "cell_type": "code",
   "execution_count": 2,
   "metadata": {},
   "outputs": [],
   "source": []
  },
  {
   "cell_type": "code",
   "execution_count": null,
   "metadata": {},
   "outputs": [],
   "source": []
  }
 ],
 "metadata": {
  "colab": {
   "collapsed_sections": [],
   "name": "Covid ForecastingWorld(Sarimax).ipynb",
   "provenance": []
  },
  "kernelspec": {
   "display_name": "Python 3",
   "language": "python",
   "name": "python3"
  },
  "language_info": {
   "codemirror_mode": {
    "name": "ipython",
    "version": 3
   },
   "file_extension": ".py",
   "mimetype": "text/x-python",
   "name": "python",
   "nbconvert_exporter": "python",
   "pygments_lexer": "ipython3",
   "version": "3.7.6"
  }
 },
 "nbformat": 4,
 "nbformat_minor": 1
}
